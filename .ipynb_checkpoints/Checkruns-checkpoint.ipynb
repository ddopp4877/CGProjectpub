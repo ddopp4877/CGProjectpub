{
 "cells": [
  {
   "cell_type": "code",
   "execution_count": 1,
   "id": "643d41c8-7e39-4165-8b2c-a3e237b03165",
   "metadata": {},
   "outputs": [],
   "source": [
    "import h5py\n",
    "import shutil\n",
    "import os\n",
    "import numpy as np\n",
    "import pandas as pd\n",
    "import pickle"
   ]
  },
  {
   "cell_type": "markdown",
   "id": "2dd51bf9-0445-4551-984d-83476b92fc9e",
   "metadata": {},
   "source": [
    "# make sure the result quantities make sense"
   ]
  },
  {
   "cell_type": "code",
   "execution_count": 2,
   "id": "22f7b915-431f-4240-97a2-aec132b362bd",
   "metadata": {},
   "outputs": [],
   "source": [
    "from modules.makeParams import *\n",
    "from modules.RejectionProtocols import *"
   ]
  },
  {
   "cell_type": "code",
   "execution_count": 14,
   "id": "f81ba02d-a2cd-4589-a306-aa171c5dd6d7",
   "metadata": {},
   "outputs": [],
   "source": [
    "#load the voltages to get the absolute number tested in each round\n",
    "LV1 = np.array(pd.read_pickle(os.path.join(\"output\",\"LV1\",\"Vsoma\"  + \".pkl\")))\n",
    "LV2 = np.load(os.path.join(\"output\",\"LV2\",\"VsomaControl\"  + \".pkl.npy\"),allow_pickle=True)\n",
    "LV3 = np.array(pd.read_pickle(os.path.join(\"output\",\"LV3\",\"VsomaControl\"  + \".pkl\")))"
   ]
  },
  {
   "cell_type": "code",
   "execution_count": 43,
   "id": "6ea0f997-2f80-46d0-9460-e0d0bca0078c",
   "metadata": {},
   "outputs": [],
   "source": [
    "LV2TEA = np.load(os.path.join(\"output\",\"LV2\",\"VsomaTEA\"  + \".pkl.npy\"),allow_pickle=True)\n",
    "LV3TEA = np.array(pd.read_pickle(os.path.join(\"output\",\"LV3\",\"VsomaTEA\"  + \".pkl\")))"
   ]
  },
  {
   "cell_type": "code",
   "execution_count": 133,
   "id": "7dd1a15d-c4aa-468d-8311-f7cf01c33312",
   "metadata": {},
   "outputs": [
    {
     "name": "stdout",
     "output_type": "stream",
     "text": [
      "according to the voltage input files\n",
      "10000 cells tested in LV1\n",
      "5751 cells tested in LV2\n",
      "700 networks tested in LV3\n",
      "which is 3500 cells tested in LV3\n"
     ]
    }
   ],
   "source": [
    "#check the number tested according to voltage traces shapes:\n",
    "LV1numTested = (LV1.shape)[0]\n",
    "LV2numTested = (LV2.shape)[0]/16 \n",
    "LV3numTested = (LV3.shape)[0]/16/5\n",
    "print(\"according to the voltage input files\")\n",
    "print(\"%d cells tested in LV1\" %(LV1numTested))\n",
    "print(\"%d cells tested in LV2\" %(LV2numTested))\n",
    "print(\"%d networks tested in LV3\" %(LV3numTested))\n",
    "print(\"which is %d cells tested in LV3\" %(LV3numTested*5))"
   ]
  },
  {
   "cell_type": "code",
   "execution_count": 68,
   "id": "d66bac62-0073-4807-81fb-7bcad0c86a34",
   "metadata": {},
   "outputs": [],
   "source": [
    "#verify from the rejection protocol that the numbers passed align\n",
    "timeArray = np.loadtxt(os.path.join(\"output\",\"LV2\",\"time.txt\"))\n",
    "coded1, Raw1, Idxs1= LV1RejectionProtocol(LV1)# Rin,Tau, and Vrest coded, and Rin,Tau,Vrest values\n",
    "coded2, Raw2, Idxs2,critList2 = LV2RejectionProtocol(timeArray, LV2.T,LV2TEA.T )\n",
    "coded3, Raw3, Idxs3,critList3 = LV3RejectionProtocol(timeArray, LV3.T,LV3TEA.T )#"
   ]
  },
  {
   "cell_type": "code",
   "execution_count": 122,
   "id": "7cec1bd8-e263-4f5b-9bc5-aa89d999eb4f",
   "metadata": {},
   "outputs": [],
   "source": [
    "[a,b] = coded1.shape\n",
    "LV1passing = np.where(coded[a-1,:] == 1)[0].shape[0]\n",
    "\n",
    "[a,b] = coded3.shape\n",
    "LV3passing = np.where(coded3[a-1,:] == 1)[0].shape[0]/16/5"
   ]
  },
  {
   "cell_type": "code",
   "execution_count": 123,
   "id": "715fb073-5279-4ade-930b-82a6ffcfa141",
   "metadata": {},
   "outputs": [
    {
     "name": "stdout",
     "output_type": "stream",
     "text": [
      "According to rejection protocols\n",
      "5751 cells pass LV1\n",
      "3500 cells pass LV2\n",
      "which is 700 networks tested in LV3\n"
     ]
    }
   ],
   "source": [
    "\n",
    "\n",
    "b = len(Idxs2)\n",
    "passingSets = np.array([1 if(np.any(Idxs2[i:i+16]==1)) else 0 for i in range(0,b,16)])\n",
    "passNo = np.where(passingSets==1)[0].shape[0]\n",
    "if (passNo % 5) != 0:\n",
    "    passNo  = passNo - (passNo % 5)\n",
    "LV2passing = passNo    \n",
    "\n",
    "print(\"According to rejection protocols\")\n",
    "print(\"%d cells pass LV1\" %(LV1passing))\n",
    "print(\"%d cells pass LV2\" %(LV2passing))\n",
    "print(\"which is %d networks tested in LV3\" %(passNo/5))"
   ]
  },
  {
   "cell_type": "code",
   "execution_count": 146,
   "id": "c68284f9-25ff-466c-9151-411e1a758e87",
   "metadata": {},
   "outputs": [
    {
     "name": "stdout",
     "output_type": "stream",
     "text": [
      "396 networks pass LV3\n"
     ]
    }
   ],
   "source": [
    "[a,b] = coded3.shape\n",
    "netPass = np.array([1 if(np.all(coded3[a-1,i:i+5]==1)) else 0 for i in range(0,b,5)])# mark 1 if all cells in a net passed - reduces number by 5\n",
    "uniqueNetPass = [1 if (np.any(netPass[i:i+16] == 1)) else 0 for i in range(0,len(netPass),16)]# mark 1 if any networks in a set of 16 passed (because it's actually the same net) - reduces # by 16\n",
    "netPassNo = uniqueNetPass.count(1)\n",
    "print(\"%d networks pass LV3\" %(netPassNo))"
   ]
  },
  {
   "cell_type": "markdown",
   "id": "3c496a10-e775-47ef-b3fc-4e0c2e015cc2",
   "metadata": {},
   "source": [
    "# debugging"
   ]
  },
  {
   "cell_type": "code",
   "execution_count": 4,
   "id": "b4aafe28-c5aa-4f9d-8c0f-c733d90ccfe8",
   "metadata": {},
   "outputs": [],
   "source": [
    "seed = \"222\"\n",
    "LV1Trials = \"10000\"\n",
    "VoltageFilename= \"Vsoma\"\n",
    "ParamsFilename = \"Params\"\n",
    "numprocesses = '4'\n",
    "passParamsFileName = \"passParams\"\n",
    "passParamsFileNameRepeat = \"passParamsRepeat\"\n",
    "eventTimesFileName = \"EventTimes\""
   ]
  },
  {
   "cell_type": "code",
   "execution_count": 5,
   "id": "798886ec-8268-4958-bd73-97035e32a165",
   "metadata": {},
   "outputs": [],
   "source": [
    "timeArray = np.loadtxt(os.path.join(\"output\",\"LV3\",\"time.txt\"))\n",
    "Vsoma =np.array(pd.read_pickle(os.path.join(\"output\",\"LV3\",VoltageFilename +\"Control\" +  \".pkl\"))).T\n",
    "VsomaTEA = np.array(pd.read_pickle(os.path.join(\"output\",\"LV3\", VoltageFilename + \"TEA\" + \".pkl\"))).T"
   ]
  },
  {
   "cell_type": "code",
   "execution_count": 9,
   "id": "a013910b-89fd-4402-96ce-a9b0a7f2b988",
   "metadata": {},
   "outputs": [],
   "source": [
    "coded, Raw, Idxs,critList = LV3RejectionProtocol(timeArray, Vsoma,VsomaTEA )# coded, values, and indexes"
   ]
  },
  {
   "cell_type": "code",
   "execution_count": 11,
   "id": "2e7b789f-8de3-4e26-9493-a1a512bdc5c1",
   "metadata": {},
   "outputs": [
    {
     "name": "stdout",
     "output_type": "stream",
     "text": [
      "#networks tested = 396\n",
      "#trials passed = 1452\n",
      "#networks passed = 387\n"
     ]
    }
   ],
   "source": [
    "[a,b] = coded.shape\n",
    "netPass = np.array([1 if(np.all(coded[a-1,i:i+5]==1)) else 0 for i in range(0,b,5)])# mark 1 if all cells in a net passed\n",
    "uniqueNetPass = [1 if (np.any(netPass[i:i+16] == 1)) else 0 for i in range(0,len(netPass),16)]# mark 1 if any networks in a set of 16 passed (because it's actually the same net)\n",
    "netPassNo = uniqueNetPass.count(1)\n",
    "print(\"#networks tested = %d\\n#trials passed = %d\\n#networks passed = %d\" %(b/16/5,(list(netPass)).count(1),netPassNo))\n",
    "\n"
   ]
  },
  {
   "cell_type": "code",
   "execution_count": 29,
   "id": "80579dfd-5e66-408e-89c7-5d6cee67447c",
   "metadata": {},
   "outputs": [],
   "source": [
    "uNetPassIdxs = np.repeat(uniqueNetPass,5*16)\n",
    "\n",
    "#save passing params and voltages\n",
    "params = np.array(pd.read_pickle(os.path.join(\"output\",\"LV3\",passParamsFileNameRepeat  + \".pkl\")))\n",
    "#params = np.unique(params,axis=1)\n",
    "passingParams = params[:,(np.where(np.array(uNetPassIdxs)==1))[0]]"
   ]
  },
  {
   "cell_type": "code",
   "execution_count": null,
   "id": "5129af25-6735-4d97-8ebd-e65fdcae5d0f",
   "metadata": {},
   "outputs": [],
   "source": []
  },
  {
   "cell_type": "code",
   "execution_count": 30,
   "id": "c54d055f-557d-4966-9c47-30961cf9aff0",
   "metadata": {},
   "outputs": [
    {
     "data": {
      "text/plain": [
       "31680"
      ]
     },
     "execution_count": 30,
     "metadata": {},
     "output_type": "execute_result"
    }
   ],
   "source": [
    "len(uNetPassIdxs)"
   ]
  },
  {
   "cell_type": "code",
   "execution_count": 20,
   "id": "06446908-8267-4807-9c59-eed976a2bf1b",
   "metadata": {},
   "outputs": [
    {
     "data": {
      "text/plain": [
       "(15, 31680)"
      ]
     },
     "execution_count": 20,
     "metadata": {},
     "output_type": "execute_result"
    }
   ],
   "source": [
    "params.shape"
   ]
  },
  {
   "cell_type": "code",
   "execution_count": 34,
   "id": "88bbc8aa-e68a-4cff-9c1b-9fedc29e8821",
   "metadata": {},
   "outputs": [],
   "source": [
    "[a,b] = passingParams.shape\n",
    "allNets = np.ones((a,1))\n",
    "for i in range(0,b,80):\n",
    "    network = passingParams[:,i:i+5]\n",
    "    allNets = np.hstack((allNets,network))\n",
    "allNets = allNets[:,1:]"
   ]
  },
  {
   "cell_type": "code",
   "execution_count": 47,
   "id": "3ed880b1-0232-4c4f-99b5-15ee79cf399c",
   "metadata": {},
   "outputs": [],
   "source": [
    "SCfreqs = np.array(SCfreqs)"
   ]
  },
  {
   "cell_type": "code",
   "execution_count": 40,
   "id": "dc4923e5-325e-443d-9e80-7da7aa22a5ae",
   "metadata": {},
   "outputs": [],
   "source": [
    "Trials = int((params.shape)[1]/16)\n",
    "SCfreqs = []\n",
    "bufferSize = 50\n",
    "np.random.seed(int(seed))\n",
    "for j in range(0,Trials):\n",
    "    for i in range(0,16):\n",
    "        SCfreqs.append(np.random.uniform(16+i,17+i))"
   ]
  },
  {
   "cell_type": "code",
   "execution_count": 43,
   "id": "401dcb49-2f7d-4e48-80ca-54c019f10d5d",
   "metadata": {},
   "outputs": [
    {
     "data": {
      "text/plain": [
       "array([    0,     1,     2, ..., 31677, 31678, 31679], dtype=int64)"
      ]
     },
     "execution_count": 43,
     "metadata": {},
     "output_type": "execute_result"
    }
   ],
   "source": [
    "(np.where(np.array(uNetPassIdxs)==1))[0]"
   ]
  },
  {
   "cell_type": "code",
   "execution_count": 48,
   "id": "6e4180c8-d2e3-48df-98ee-317794828024",
   "metadata": {},
   "outputs": [
    {
     "data": {
      "text/plain": [
       "array([16.52602843, 17.68531719, 18.83567419, ..., 29.25435915,\n",
       "       30.91746537, 31.90789275])"
      ]
     },
     "execution_count": 48,
     "metadata": {},
     "output_type": "execute_result"
    }
   ],
   "source": [
    "SCfreqs[(np.where(np.array(uNetPassIdxs)==1))[0]]"
   ]
  },
  {
   "cell_type": "code",
   "execution_count": 60,
   "id": "74d101a0-cfb9-4686-b763-d6f0ae6f08ce",
   "metadata": {},
   "outputs": [
    {
     "name": "stdout",
     "output_type": "stream",
     "text": [
      "['soma_leak', 'soma_a2', 'soma_bkkca', 'soma_skkca', 'soma_kd1', 'soma_kd2', 'soma_cal', 'soma_cat', 'soma_caN', 'soma_nap2', 'neurite_leak', 'neurite_cat', 'neurite_cal', 'neurite_nap2', 'neurite_bkkca', 'SCfreq']\n"
     ]
    }
   ],
   "source": [
    "passingParams = params[:,(np.where(np.array(uNetPassIdxs)==1))[0]]\n",
    "passingFreqs = SCfreqs[(np.where(np.array(uNetPassIdxs)==1))[0]]\n",
    "#passingParams = np.vstack((passingParams,passingFreqs))\n",
    "paramList = fullParamsList() + ['SCfreq']\n",
    "print(paramList)"
   ]
  },
  {
   "cell_type": "code",
   "execution_count": 62,
   "id": "d4e1e928-500d-4b29-a6cd-187e252bafa7",
   "metadata": {},
   "outputs": [
    {
     "data": {
      "text/plain": [
       "array([[6.20081706e-05, 6.21470540e-05, 6.25253017e-05, ...,\n",
       "        1.98599034e-04, 1.98599034e-04, 1.99092642e-04],\n",
       "       [1.44151099e-03, 1.34828468e-03, 8.49182535e-04, ...,\n",
       "        1.08061740e-03, 1.08061740e-03, 8.18176246e-04],\n",
       "       [9.75863262e-04, 2.27939245e-03, 4.22445657e-03, ...,\n",
       "        1.37024447e-03, 1.37024447e-03, 1.33031343e-03],\n",
       "       ...,\n",
       "       [2.10888993e-04, 2.84895805e-04, 1.85969706e-04, ...,\n",
       "        2.10561156e-04, 2.83739094e-04, 2.05654336e-04],\n",
       "       [3.28521807e-03, 4.36419729e-03, 3.62886694e-03, ...,\n",
       "        3.88695038e-03, 2.94087173e-03, 3.49290156e-03],\n",
       "       [1.65260284e+01, 1.76853172e+01, 1.88356742e+01, ...,\n",
       "        1.60000592e+01, 1.73782437e+01, 1.88223533e+01]])"
      ]
     },
     "execution_count": 62,
     "metadata": {},
     "output_type": "execute_result"
    }
   ],
   "source": [
    "unIDXs = np.unique(passingParams,axis=1,return_index=True)[1]\n",
    "passingParams = np.unique(passingParams,axis=1)\n",
    "unSCfreqs = passingFreqs[unIDXs]\n",
    "np.vstack((passingParams,unSCfreqs))"
   ]
  }
 ],
 "metadata": {
  "kernelspec": {
   "display_name": "Python 3 (ipykernel)",
   "language": "python",
   "name": "python3"
  },
  "language_info": {
   "codemirror_mode": {
    "name": "ipython",
    "version": 3
   },
   "file_extension": ".py",
   "mimetype": "text/x-python",
   "name": "python",
   "nbconvert_exporter": "python",
   "pygments_lexer": "ipython3",
   "version": "3.9.11"
  }
 },
 "nbformat": 4,
 "nbformat_minor": 5
}
